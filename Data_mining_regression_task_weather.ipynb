{
  "nbformat": 4,
  "nbformat_minor": 0,
  "metadata": {
    "colab": {
      "provenance": [],
      "authorship_tag": "ABX9TyO54N8Waq/mt7Q/bAxuOMgH",
      "include_colab_link": true
    },
    "kernelspec": {
      "name": "python3",
      "display_name": "Python 3"
    }
  },
  "cells": [
    {
      "cell_type": "markdown",
      "metadata": {
        "id": "view-in-github",
        "colab_type": "text"
      },
      "source": [
        "<a href=\"https://colab.research.google.com/github/bosbintang/Data-mining-regression-task-weather/blob/main/Data_mining_regression_task_weather.ipynb\" target=\"_parent\"><img src=\"https://colab.research.google.com/assets/colab-badge.svg\" alt=\"Open In Colab\"/></a>"
      ]
    },
    {
      "cell_type": "code",
      "metadata": {
        "id": "58x_wF1GfD-O",
        "colab": {
          "base_uri": "https://localhost:8080/",
          "height": 70
        },
        "outputId": "fca87acb-23f3-4226-fc61-4bb61e0dbc83"
      },
      "source": [
        "import pandas as pd\n",
        "import matplotlib.pyplot as plt\n",
        "from sklearn import linear_model\n",
        "import statsmodels.api as sm"
      ],
      "execution_count": null,
      "outputs": [
        {
          "output_type": "stream",
          "text": [
            "/usr/local/lib/python3.6/dist-packages/statsmodels/tools/_testing.py:19: FutureWarning: pandas.util.testing is deprecated. Use the functions in the public API at pandas.testing instead.\n",
            "  import pandas.util.testing as tm\n"
          ],
          "name": "stderr"
        }
      ]
    },
    {
      "cell_type": "code",
      "metadata": {
        "id": "EZoHLN1Gkwsr",
        "colab": {
          "base_uri": "https://localhost:8080/",
          "height": 269
        },
        "outputId": "7297cb80-fff3-41d8-9496-5e7856e3fb54"
      },
      "source": [
        "Weather = {'Outlook': ['sunny','sunny','overcast','rainy','rainy','rainy','overcast','sunny','sunny','rainy','sunny','overcast','overcast','rainy'],\n",
        "                'Temperature': [85,80,83,70,68,65,64,72,69,75,75,72,81,71],\n",
        "                'Humidity': [85,90,86,96,80,70,65,95,70,80,70,90,75,91],\n",
        "                'Windy': ['FALSE','TRUE','FALSE','FALSE','FALSE','TRUE','TRUE','FALSE','FALSE','FALSE','TRUE','TRUE','FALSE','TRUE'],\n",
        "                'Play': ['No','No','Yes','Yes','Yes','No','Yes','No','Yes','Yes','Yes','Yes','Yes','No']}\n",
        "                #'Play' : [0,0,1,1,1,0,1,0,1,1,1,1,1,0]} \n",
        "df = pd.DataFrame(Weather,columns=['Outlook','Temperature','Humidity','Windy','Play']) \n",
        "\n",
        "print (df)"
      ],
      "execution_count": null,
      "outputs": [
        {
          "output_type": "stream",
          "text": [
            "     Outlook  Temperature  Humidity  Windy Play\n",
            "0      sunny           85        85  FALSE   No\n",
            "1      sunny           80        90   TRUE   No\n",
            "2   overcast           83        86  FALSE  Yes\n",
            "3      rainy           70        96  FALSE  Yes\n",
            "4      rainy           68        80  FALSE  Yes\n",
            "5      rainy           65        70   TRUE   No\n",
            "6   overcast           64        65   TRUE  Yes\n",
            "7      sunny           72        95  FALSE   No\n",
            "8      sunny           69        70  FALSE  Yes\n",
            "9      rainy           75        80  FALSE  Yes\n",
            "10     sunny           75        70   TRUE  Yes\n",
            "11  overcast           72        90   TRUE  Yes\n",
            "12  overcast           81        75  FALSE  Yes\n",
            "13     rainy           71        91   TRUE   No\n"
          ],
          "name": "stdout"
        }
      ]
    },
    {
      "cell_type": "code",
      "metadata": {
        "id": "dxdJj4pGpysD",
        "colab": {
          "base_uri": "https://localhost:8080/",
          "height": 300
        },
        "outputId": "61b7c6d3-f3f8-4443-db5c-c8aa0acfd190"
      },
      "source": [
        "plt.scatter(df['Outlook'], df['Play'])\n",
        "plt.title('Outlook Vs Play', fontsize=14)\n",
        "plt.xlabel('Outlook', fontsize=14)\n",
        "plt.ylabel('Play', fontsize=14)\n",
        "plt.grid(True)\n",
        "plt.show()"
      ],
      "execution_count": null,
      "outputs": [
        {
          "output_type": "display_data",
          "data": {
            "image/png": "[encoded data removed]",
            "text/plain": [
              "<Figure size 432x288 with 1 Axes>"
            ]
          },
          "metadata": {
            "tags": [],
            "needs_background": "light"
          }
        }
      ]
    },
    {
      "cell_type": "code",
      "metadata": {
        "id": "DcyUr4SKqU_q",
        "colab": {
          "base_uri": "https://localhost:8080/",
          "height": 300
        },
        "outputId": "e1ae1e63-c70c-4efb-f73a-3754fc13b97f"
      },
      "source": [
        "plt.scatter(df['Temperature'], df['Play'])\n",
        "plt.title('Temperature Vs Play', fontsize=14)\n",
        "plt.xlabel('Temperature', fontsize=14)\n",
        "plt.ylabel('Play', fontsize=14)\n",
        "plt.grid(True)\n",
        "plt.show()"
      ],
      "execution_count": null,
      "outputs": [
        {
          "output_type": "display_data",
          "data": {
            "image/png": "[encoded data removed]",
            "text/plain": [
              "<Figure size 432x288 with 1 Axes>"
            ]
          },
          "metadata": {
            "tags": [],
            "needs_background": "light"
          }
        }
      ]
    },
    {
      "cell_type": "code",
      "metadata": {
        "id": "m4Y1JiYElziM",
        "colab": {
          "base_uri": "https://localhost:8080/",
          "height": 84
        },
        "outputId": "d624fd17-c4eb-4f7a-e5ab-250277a0e808"
      },
      "source": [
        "X = df[['Temperature','Humidity']]\n",
        "Y = df[['Play']]\n",
        "\n",
        "regr = linear_model.LinearRegression()\n",
        "regr.fit(X,Y)\n",
        "\n",
        "print('intercept: \\n', regr.intercept_)\n",
        "print('Coefficients: \\n', regr.coef_)\n",
        "\n"
      ],
      "execution_count": null,
      "outputs": [
        {
          "output_type": "stream",
          "text": [
            "intercept: \n",
            " [2.05836514]\n",
            "Coefficients: \n",
            " [[-0.0010988  -0.01634764]]\n"
          ],
          "name": "stdout"
        }
      ]
    }
  ]
}